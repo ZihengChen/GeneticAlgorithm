{
 "cells": [
  {
   "cell_type": "code",
   "execution_count": 49,
   "metadata": {
    "collapsed": true
   },
   "outputs": [],
   "source": [
    "import sys\n",
    "sys.path.append('../script/')\n",
    "from GeneticAlgo import *\n",
    "from utility_GA_BSpline import *\n",
    "\n",
    "%matplotlib inline\n",
    "plt.style.use('dark_background')\n",
    "#plt.rc(\"figure\",facecolor=\"w\",figsize=(6,4))\n",
    "plt.rc(\"font\",size=12)"
   ]
  },
  {
   "cell_type": "markdown",
   "metadata": {},
   "source": [
    "# 1. Run GA"
   ]
  },
  {
   "cell_type": "markdown",
   "metadata": {},
   "source": [
    "### 1.1 Setup Objective and GA Optimizer"
   ]
  },
  {
   "cell_type": "code",
   "execution_count": 50,
   "metadata": {
    "collapsed": true
   },
   "outputs": [],
   "source": [
    "def DefineFitness(DNA):\n",
    "    coeff = TranslateDNA(DNA)\n",
    "    t = np.linspace(-0.2,1.2,15) #15=3+11+3=k+node+k\n",
    "    k = 2\n",
    "    spl = BSpline(t, coeff, k, extrapolate=False)\n",
    "    \n",
    "    w     = np.linspace(0,1,100)\n",
    "    truth = 1/2*np.sin(5*w)+np.cos(10*w)\n",
    "    guess = spl(w)\n",
    "    \n",
    "    var   = np.mean((truth-guess)**2)\n",
    "    fitness = 1/var\n",
    "    #fitness = np.exp(-0.1*var)\n",
    "    return fitness"
   ]
  },
  {
   "cell_type": "code",
   "execution_count": 51,
   "metadata": {
    "collapsed": true
   },
   "outputs": [],
   "source": [
    "ga = GA(pop_size    = 100,\n",
    "        DNA_size    = 12, \n",
    "        DNA_fitness = DefineFitness,\n",
    "        cross_rate  = 0.8,\n",
    "        mutate_rate = 0.01,\n",
    "        noise_rate  = 0.8,\n",
    "        noise_amp   = 0.01\n",
    "       )"
   ]
  },
  {
   "cell_type": "markdown",
   "metadata": {},
   "source": [
    "### 1.2 Start GA Evolution"
   ]
  },
  {
   "cell_type": "code",
   "execution_count": 52,
   "metadata": {
    "collapsed": true
   },
   "outputs": [],
   "source": [
    "for generation in range(61):\n",
    "    ga.evolve()\n",
    "fitness  = ga.get_pop_fitness()\n",
    "best_DNA = ga.pop[np.argmax(fitness)]"
   ]
  },
  {
   "cell_type": "markdown",
   "metadata": {},
   "source": [
    "### 1.3 Plot Final The Best DNA "
   ]
  },
  {
   "cell_type": "code",
   "execution_count": 71,
   "metadata": {
    "collapsed": true
   },
   "outputs": [],
   "source": [
    "def PlotGeneration(fitness,best_DNA,generation):\n",
    "    fig, axes = plt.subplots(2, 1, sharex=False, \n",
    "                             gridspec_kw={'height_ratios':[2,1]},\n",
    "                             figsize=(5,5))\n",
    "    ax = axes[0]\n",
    "    \n",
    "    w     = np.linspace(0,1,100)\n",
    "    truth = 1/2*np.sin(5*w)+np.cos(10*w)\n",
    "    coeff = TranslateDNA(best_DNA)\n",
    "    spl   = BSpline(np.linspace(-0.2,1.2,15), coeff, 2, extrapolate=False)\n",
    "    guess = spl(w)\n",
    "    ax.plot(w, truth, lw=3, color='w',linestyle='--',label=\"Ground Truth\")\n",
    "    ax.plot(w, guess,lw=2,label=\"Best Guess\")\n",
    "    \n",
    "    ax.set_xlim(0.05,0.95)\n",
    "    ax.set_ylim(-3,4)\n",
    "    ax.legend(fontsize=11)\n",
    "    ax.grid()\n",
    "    ax.set_title('Generation {}'.format(generation))\n",
    "    \n",
    "    ax = axes[1]\n",
    "    ax.hist(fitness,bins=np.arange(0,200,4),histtype=\"stepfilled\",lw=0,label='Fittness')\n",
    "    #ax.legend()\n",
    "    ax.grid()\n",
    "    ax.set_xlabel(\"Generation Fitness\")"
   ]
  },
  {
   "cell_type": "code",
   "execution_count": 72,
   "metadata": {},
   "outputs": [
    {
     "data": {
      "image/png": "[encoded data removed]",
      "text/plain": [
       "<matplotlib.figure.Figure at 0x110fa95f8>"
      ]
     },
     "metadata": {},
     "output_type": "display_data"
    }
   ],
   "source": [
    "PlotGeneration(fitness,best_DNA,generation)\n",
    "plt.savefig('../plot/GA_BSpline.png',dpi=200)"
   ]
  },
  {
   "cell_type": "markdown",
   "metadata": {},
   "source": [
    "# 2. Visualize Evolution"
   ]
  },
  {
   "cell_type": "code",
   "execution_count": 73,
   "metadata": {
    "collapsed": true
   },
   "outputs": [],
   "source": [
    "ga = GA(pop_size    = 100,\n",
    "        DNA_size    = 12, \n",
    "        DNA_fitness = DefineFitness,\n",
    "        cross_rate  = 0.8,\n",
    "        mutate_rate = 0.01,\n",
    "        noise_rate  = 0.8,\n",
    "        noise_amp   = 0.01\n",
    "       )\n",
    "\n",
    "w     = np.linspace(0,1,100)\n",
    "truth = 1/2*np.sin(5*w)+np.cos(10*w)\n",
    "\n",
    "\n",
    "for generation in range(101):\n",
    "    ga.evolve()\n",
    "    fitness  = ga.get_pop_fitness()\n",
    "    best_DNA = ga.pop[np.argmax(fitness)]\n",
    "    PlotGeneration(fitness,best_DNA,generation)\n",
    "    plt.savefig('../plot/evolve/{}.png'.format(generation),dpi=200)\n",
    "    plt.close()"
   ]
  },
  {
   "cell_type": "code",
   "execution_count": null,
   "metadata": {
    "collapsed": true
   },
   "outputs": [],
   "source": []
  },
  {
   "cell_type": "code",
   "execution_count": null,
   "metadata": {
    "collapsed": true
   },
   "outputs": [],
   "source": []
  },
  {
   "cell_type": "code",
   "execution_count": 6,
   "metadata": {
    "collapsed": true
   },
   "outputs": [],
   "source": []
  },
  {
   "cell_type": "code",
   "execution_count": null,
   "metadata": {
    "collapsed": true
   },
   "outputs": [],
   "source": []
  }
 ],
 "metadata": {
  "kernelspec": {
   "display_name": "Python 3",
   "language": "python",
   "name": "python3"
  },
  "language_info": {
   "codemirror_mode": {
    "name": "ipython",
    "version": 3
   },
   "file_extension": ".py",
   "mimetype": "text/x-python",
   "name": "python",
   "nbconvert_exporter": "python",
   "pygments_lexer": "ipython3",
   "version": "3.6.1"
  }
 },
 "nbformat": 4,
 "nbformat_minor": 2
}
